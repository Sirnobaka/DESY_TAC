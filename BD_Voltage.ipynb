{
 "cells": [
  {
   "cell_type": "code",
   "execution_count": 3,
   "id": "figured-trunk",
   "metadata": {},
   "outputs": [],
   "source": [
    "import pandas as pd\n",
    "import numpy as np\n",
    "import matplotlib.pyplot as plt\n",
    "\n",
    "# Scipy function for fitting\n",
    "from scipy.optimize import curve_fit"
   ]
  },
  {
   "cell_type": "code",
   "execution_count": 4,
   "id": "trying-poker",
   "metadata": {},
   "outputs": [],
   "source": [
    "# Параметры рисования картинок, можно менять глобально здесь или локально\n",
    "plt.rcParams.update({\n",
    "    'font.size': 30,\n",
    "    'figure.figsize': (13, 10),\n",
    "    'axes.grid': True,\n",
    "    'grid.linestyle': '-',\n",
    "    'grid.alpha': 0.2,\n",
    "    'lines.markersize': 5.0,\n",
    "    'xtick.minor.visible': True,\n",
    "    'xtick.direction': 'in',\n",
    "    'xtick.major.size': 30.0,\n",
    "    'xtick.minor.size': 20.0,\n",
    "    'xtick.top': False,\n",
    "    'xtick.bottom': False,\n",
    "    'ytick.minor.visible': True,\n",
    "    'ytick.direction': 'in',\n",
    "    'ytick.major.size': 30.0,\n",
    "    'ytick.minor.size': 20.0,\n",
    "    'ytick.right': True,\n",
    "    'errorbar.capsize': 0.0,\n",
    "    #'tex.usetex': True,\n",
    "    #'axes.titlepad' : 0.8, \n",
    "})\n",
    "plt.rcParams['text.usetex'] = False"
   ]
  },
  {
   "cell_type": "code",
   "execution_count": 12,
   "id": "gorgeous-hungarian",
   "metadata": {},
   "outputs": [],
   "source": [
    "# Функция, из которой просто достать x0\n",
    "def pol1_fit (x, k, x0):\n",
    "    return k * (x - x0)"
   ]
  },
  {
   "cell_type": "code",
   "execution_count": 13,
   "id": "external-dynamics",
   "metadata": {},
   "outputs": [],
   "source": [
    "# То же самое, только по-другому\n",
    "def pol1_fit_default (x, k, b):\n",
    "    return k * x + b"
   ]
  },
  {
   "cell_type": "markdown",
   "id": "thirty-statistics",
   "metadata": {},
   "source": [
    "### Read data"
   ]
  },
  {
   "cell_type": "code",
   "execution_count": 7,
   "id": "crucial-biography",
   "metadata": {},
   "outputs": [
    {
     "data": {
      "text/html": [
       "<div>\n",
       "<style scoped>\n",
       "    .dataframe tbody tr th:only-of-type {\n",
       "        vertical-align: middle;\n",
       "    }\n",
       "\n",
       "    .dataframe tbody tr th {\n",
       "        vertical-align: top;\n",
       "    }\n",
       "\n",
       "    .dataframe thead th {\n",
       "        text-align: right;\n",
       "    }\n",
       "</style>\n",
       "<table border=\"1\" class=\"dataframe\">\n",
       "  <thead>\n",
       "    <tr style=\"text-align: right;\">\n",
       "      <th></th>\n",
       "      <th>FileName</th>\n",
       "      <th>SPS Plot</th>\n",
       "      <th>SPS_mu0</th>\n",
       "      <th>SPS_sig0</th>\n",
       "      <th>SPS_Gain</th>\n",
       "      <th>SPS_sGain</th>\n",
       "      <th>SPS_Npe</th>\n",
       "      <th>SPS_lambda</th>\n",
       "      <th>SPS_mean</th>\n",
       "      <th>SPS_stdev</th>\n",
       "      <th>...</th>\n",
       "      <th>Gauss1_Integral</th>\n",
       "      <th>Gauss1_Chi2</th>\n",
       "      <th>Gauss1_NDF</th>\n",
       "      <th>SPS_hist_entries</th>\n",
       "      <th>SPS_Gain_err</th>\n",
       "      <th>Gauss0_mean_err</th>\n",
       "      <th>Gauss1_mean_err</th>\n",
       "      <th>SPS_lambda_err</th>\n",
       "      <th>SiPM_Voltage</th>\n",
       "      <th>Temperature</th>\n",
       "    </tr>\n",
       "  </thead>\n",
       "  <tbody>\n",
       "    <tr>\n",
       "      <th>0</th>\n",
       "      <td>08112021_SPS_T25p00_40p00V.root</td>\n",
       "      <td>08112021_SPS_T25p00_40p00V_SPS.png</td>\n",
       "      <td>219.268</td>\n",
       "      <td>3.81543</td>\n",
       "      <td>12.3776</td>\n",
       "      <td>0.698683</td>\n",
       "      <td>0.956849</td>\n",
       "      <td>0.002765</td>\n",
       "      <td>214.249</td>\n",
       "      <td>61.0279</td>\n",
       "      <td>...</td>\n",
       "      <td>13625</td>\n",
       "      <td>16.04570</td>\n",
       "      <td>6</td>\n",
       "      <td>40020</td>\n",
       "      <td>0.045908</td>\n",
       "      <td>0.092915</td>\n",
       "      <td>0.092145</td>\n",
       "      <td>0.004296</td>\n",
       "      <td>40.00</td>\n",
       "      <td>25.00</td>\n",
       "    </tr>\n",
       "    <tr>\n",
       "      <th>1</th>\n",
       "      <td>08112021_SPS_T25p04_40p25V.root</td>\n",
       "      <td>08112021_SPS_T25p04_40p25V_SPS.png</td>\n",
       "      <td>219.031</td>\n",
       "      <td>3.99295</td>\n",
       "      <td>13.8333</td>\n",
       "      <td>-0.485575</td>\n",
       "      <td>1.015750</td>\n",
       "      <td>0.009681</td>\n",
       "      <td>211.698</td>\n",
       "      <td>68.6865</td>\n",
       "      <td>...</td>\n",
       "      <td>13638</td>\n",
       "      <td>2.99568</td>\n",
       "      <td>6</td>\n",
       "      <td>40018</td>\n",
       "      <td>0.035962</td>\n",
       "      <td>0.077428</td>\n",
       "      <td>0.083928</td>\n",
       "      <td>0.004267</td>\n",
       "      <td>40.25</td>\n",
       "      <td>25.04</td>\n",
       "    </tr>\n",
       "    <tr>\n",
       "      <th>2</th>\n",
       "      <td>08112021_SPS_T25p05_40p50V.root</td>\n",
       "      <td>08112021_SPS_T25p05_40p50V_SPS.png</td>\n",
       "      <td>219.056</td>\n",
       "      <td>3.94997</td>\n",
       "      <td>15.1026</td>\n",
       "      <td>0.936128</td>\n",
       "      <td>1.074970</td>\n",
       "      <td>0.008425</td>\n",
       "      <td>212.917</td>\n",
       "      <td>70.7427</td>\n",
       "      <td>...</td>\n",
       "      <td>13326</td>\n",
       "      <td>7.15750</td>\n",
       "      <td>8</td>\n",
       "      <td>40017</td>\n",
       "      <td>0.033728</td>\n",
       "      <td>0.063708</td>\n",
       "      <td>0.066375</td>\n",
       "      <td>0.004202</td>\n",
       "      <td>40.50</td>\n",
       "      <td>25.05</td>\n",
       "    </tr>\n",
       "    <tr>\n",
       "      <th>3</th>\n",
       "      <td>08112021_SPS_T25p05_40p75V.root</td>\n",
       "      <td>08112021_SPS_T25p05_40p75V_SPS.png</td>\n",
       "      <td>219.150</td>\n",
       "      <td>4.10776</td>\n",
       "      <td>16.4827</td>\n",
       "      <td>0.981034</td>\n",
       "      <td>1.092530</td>\n",
       "      <td>0.018613</td>\n",
       "      <td>218.923</td>\n",
       "      <td>65.7679</td>\n",
       "      <td>...</td>\n",
       "      <td>13190</td>\n",
       "      <td>10.60710</td>\n",
       "      <td>8</td>\n",
       "      <td>40019</td>\n",
       "      <td>0.031085</td>\n",
       "      <td>0.065850</td>\n",
       "      <td>0.060136</td>\n",
       "      <td>0.003819</td>\n",
       "      <td>40.75</td>\n",
       "      <td>25.05</td>\n",
       "    </tr>\n",
       "    <tr>\n",
       "      <th>4</th>\n",
       "      <td>08112021_SPS_T25p06_41p00V.root</td>\n",
       "      <td>08112021_SPS_T25p06_41p00V_SPS.png</td>\n",
       "      <td>219.022</td>\n",
       "      <td>4.18477</td>\n",
       "      <td>17.7856</td>\n",
       "      <td>1.143580</td>\n",
       "      <td>0.967151</td>\n",
       "      <td>0.024954</td>\n",
       "      <td>212.112</td>\n",
       "      <td>74.0372</td>\n",
       "      <td>...</td>\n",
       "      <td>12868</td>\n",
       "      <td>27.70290</td>\n",
       "      <td>10</td>\n",
       "      <td>40018</td>\n",
       "      <td>0.032268</td>\n",
       "      <td>0.050102</td>\n",
       "      <td>0.057602</td>\n",
       "      <td>0.003961</td>\n",
       "      <td>41.00</td>\n",
       "      <td>25.06</td>\n",
       "    </tr>\n",
       "    <tr>\n",
       "      <th>5</th>\n",
       "      <td>08112021_SPS_T25p06_41p25V.root</td>\n",
       "      <td>08112021_SPS_T25p06_41p25V_SPS.png</td>\n",
       "      <td>219.058</td>\n",
       "      <td>4.26249</td>\n",
       "      <td>19.1577</td>\n",
       "      <td>1.485310</td>\n",
       "      <td>0.997822</td>\n",
       "      <td>0.024502</td>\n",
       "      <td>223.955</td>\n",
       "      <td>60.4294</td>\n",
       "      <td>...</td>\n",
       "      <td>13399</td>\n",
       "      <td>20.29130</td>\n",
       "      <td>10</td>\n",
       "      <td>40018</td>\n",
       "      <td>0.033210</td>\n",
       "      <td>0.051272</td>\n",
       "      <td>0.056906</td>\n",
       "      <td>0.003869</td>\n",
       "      <td>41.25</td>\n",
       "      <td>25.06</td>\n",
       "    </tr>\n",
       "    <tr>\n",
       "      <th>6</th>\n",
       "      <td>08112021_SPS_T25p07_41p50V.root</td>\n",
       "      <td>08112021_SPS_T25p07_41p50V_SPS.png</td>\n",
       "      <td>219.071</td>\n",
       "      <td>4.24931</td>\n",
       "      <td>20.5315</td>\n",
       "      <td>1.664850</td>\n",
       "      <td>1.020160</td>\n",
       "      <td>0.030007</td>\n",
       "      <td>226.353</td>\n",
       "      <td>60.4022</td>\n",
       "      <td>...</td>\n",
       "      <td>13266</td>\n",
       "      <td>10.92480</td>\n",
       "      <td>12</td>\n",
       "      <td>40009</td>\n",
       "      <td>0.031493</td>\n",
       "      <td>0.044392</td>\n",
       "      <td>0.048815</td>\n",
       "      <td>0.003931</td>\n",
       "      <td>41.50</td>\n",
       "      <td>25.07</td>\n",
       "    </tr>\n",
       "    <tr>\n",
       "      <th>7</th>\n",
       "      <td>08112021_SPS_T25p07_41p75V.root</td>\n",
       "      <td>08112021_SPS_T25p07_41p75V_SPS.png</td>\n",
       "      <td>218.955</td>\n",
       "      <td>4.30810</td>\n",
       "      <td>21.8471</td>\n",
       "      <td>1.706970</td>\n",
       "      <td>1.036770</td>\n",
       "      <td>0.034338</td>\n",
       "      <td>219.978</td>\n",
       "      <td>73.5972</td>\n",
       "      <td>...</td>\n",
       "      <td>12905</td>\n",
       "      <td>33.99470</td>\n",
       "      <td>12</td>\n",
       "      <td>40018</td>\n",
       "      <td>0.030626</td>\n",
       "      <td>0.043841</td>\n",
       "      <td>0.047876</td>\n",
       "      <td>0.003784</td>\n",
       "      <td>41.75</td>\n",
       "      <td>25.07</td>\n",
       "    </tr>\n",
       "    <tr>\n",
       "      <th>8</th>\n",
       "      <td>08112021_SPS_T25p08_42p00V.root</td>\n",
       "      <td>08112021_SPS_T25p08_42p00V_SPS.png</td>\n",
       "      <td>219.082</td>\n",
       "      <td>4.32540</td>\n",
       "      <td>23.0801</td>\n",
       "      <td>1.920830</td>\n",
       "      <td>1.052220</td>\n",
       "      <td>0.040138</td>\n",
       "      <td>222.511</td>\n",
       "      <td>73.6431</td>\n",
       "      <td>...</td>\n",
       "      <td>12759</td>\n",
       "      <td>27.12240</td>\n",
       "      <td>12</td>\n",
       "      <td>40019</td>\n",
       "      <td>0.030511</td>\n",
       "      <td>0.045241</td>\n",
       "      <td>0.049270</td>\n",
       "      <td>0.003922</td>\n",
       "      <td>42.00</td>\n",
       "      <td>25.08</td>\n",
       "    </tr>\n",
       "    <tr>\n",
       "      <th>9</th>\n",
       "      <td>08112021_SPS_T25p08_42p25V.root</td>\n",
       "      <td>08112021_SPS_T25p08_42p25V_SPS.png</td>\n",
       "      <td>218.875</td>\n",
       "      <td>4.32669</td>\n",
       "      <td>24.4558</td>\n",
       "      <td>2.309530</td>\n",
       "      <td>1.066880</td>\n",
       "      <td>0.048107</td>\n",
       "      <td>224.320</td>\n",
       "      <td>74.7285</td>\n",
       "      <td>...</td>\n",
       "      <td>12575</td>\n",
       "      <td>57.54170</td>\n",
       "      <td>14</td>\n",
       "      <td>40020</td>\n",
       "      <td>0.032618</td>\n",
       "      <td>0.042621</td>\n",
       "      <td>0.047894</td>\n",
       "      <td>0.003809</td>\n",
       "      <td>42.25</td>\n",
       "      <td>25.08</td>\n",
       "    </tr>\n",
       "    <tr>\n",
       "      <th>10</th>\n",
       "      <td>08112021_SPS_T25p09_42p50V.root</td>\n",
       "      <td>08112021_SPS_T25p09_42p50V_SPS.png</td>\n",
       "      <td>218.761</td>\n",
       "      <td>4.34110</td>\n",
       "      <td>25.8246</td>\n",
       "      <td>2.414300</td>\n",
       "      <td>1.081370</td>\n",
       "      <td>0.053646</td>\n",
       "      <td>226.153</td>\n",
       "      <td>75.8305</td>\n",
       "      <td>...</td>\n",
       "      <td>12542</td>\n",
       "      <td>49.20990</td>\n",
       "      <td>14</td>\n",
       "      <td>40018</td>\n",
       "      <td>0.032207</td>\n",
       "      <td>0.042903</td>\n",
       "      <td>0.045551</td>\n",
       "      <td>0.003965</td>\n",
       "      <td>42.50</td>\n",
       "      <td>25.09</td>\n",
       "    </tr>\n",
       "  </tbody>\n",
       "</table>\n",
       "<p>11 rows × 32 columns</p>\n",
       "</div>"
      ],
      "text/plain": [
       "                           FileName                            SPS Plot  \\\n",
       "0   08112021_SPS_T25p00_40p00V.root  08112021_SPS_T25p00_40p00V_SPS.png   \n",
       "1   08112021_SPS_T25p04_40p25V.root  08112021_SPS_T25p04_40p25V_SPS.png   \n",
       "2   08112021_SPS_T25p05_40p50V.root  08112021_SPS_T25p05_40p50V_SPS.png   \n",
       "3   08112021_SPS_T25p05_40p75V.root  08112021_SPS_T25p05_40p75V_SPS.png   \n",
       "4   08112021_SPS_T25p06_41p00V.root  08112021_SPS_T25p06_41p00V_SPS.png   \n",
       "5   08112021_SPS_T25p06_41p25V.root  08112021_SPS_T25p06_41p25V_SPS.png   \n",
       "6   08112021_SPS_T25p07_41p50V.root  08112021_SPS_T25p07_41p50V_SPS.png   \n",
       "7   08112021_SPS_T25p07_41p75V.root  08112021_SPS_T25p07_41p75V_SPS.png   \n",
       "8   08112021_SPS_T25p08_42p00V.root  08112021_SPS_T25p08_42p00V_SPS.png   \n",
       "9   08112021_SPS_T25p08_42p25V.root  08112021_SPS_T25p08_42p25V_SPS.png   \n",
       "10  08112021_SPS_T25p09_42p50V.root  08112021_SPS_T25p09_42p50V_SPS.png   \n",
       "\n",
       "    SPS_mu0  SPS_sig0  SPS_Gain  SPS_sGain   SPS_Npe  SPS_lambda  SPS_mean  \\\n",
       "0   219.268   3.81543   12.3776   0.698683  0.956849    0.002765   214.249   \n",
       "1   219.031   3.99295   13.8333  -0.485575  1.015750    0.009681   211.698   \n",
       "2   219.056   3.94997   15.1026   0.936128  1.074970    0.008425   212.917   \n",
       "3   219.150   4.10776   16.4827   0.981034  1.092530    0.018613   218.923   \n",
       "4   219.022   4.18477   17.7856   1.143580  0.967151    0.024954   212.112   \n",
       "5   219.058   4.26249   19.1577   1.485310  0.997822    0.024502   223.955   \n",
       "6   219.071   4.24931   20.5315   1.664850  1.020160    0.030007   226.353   \n",
       "7   218.955   4.30810   21.8471   1.706970  1.036770    0.034338   219.978   \n",
       "8   219.082   4.32540   23.0801   1.920830  1.052220    0.040138   222.511   \n",
       "9   218.875   4.32669   24.4558   2.309530  1.066880    0.048107   224.320   \n",
       "10  218.761   4.34110   25.8246   2.414300  1.081370    0.053646   226.153   \n",
       "\n",
       "    SPS_stdev  ...  Gauss1_Integral  Gauss1_Chi2  Gauss1_NDF  \\\n",
       "0     61.0279  ...            13625     16.04570           6   \n",
       "1     68.6865  ...            13638      2.99568           6   \n",
       "2     70.7427  ...            13326      7.15750           8   \n",
       "3     65.7679  ...            13190     10.60710           8   \n",
       "4     74.0372  ...            12868     27.70290          10   \n",
       "5     60.4294  ...            13399     20.29130          10   \n",
       "6     60.4022  ...            13266     10.92480          12   \n",
       "7     73.5972  ...            12905     33.99470          12   \n",
       "8     73.6431  ...            12759     27.12240          12   \n",
       "9     74.7285  ...            12575     57.54170          14   \n",
       "10    75.8305  ...            12542     49.20990          14   \n",
       "\n",
       "    SPS_hist_entries  SPS_Gain_err  Gauss0_mean_err  Gauss1_mean_err  \\\n",
       "0              40020      0.045908         0.092915         0.092145   \n",
       "1              40018      0.035962         0.077428         0.083928   \n",
       "2              40017      0.033728         0.063708         0.066375   \n",
       "3              40019      0.031085         0.065850         0.060136   \n",
       "4              40018      0.032268         0.050102         0.057602   \n",
       "5              40018      0.033210         0.051272         0.056906   \n",
       "6              40009      0.031493         0.044392         0.048815   \n",
       "7              40018      0.030626         0.043841         0.047876   \n",
       "8              40019      0.030511         0.045241         0.049270   \n",
       "9              40020      0.032618         0.042621         0.047894   \n",
       "10             40018      0.032207         0.042903         0.045551   \n",
       "\n",
       "    SPS_lambda_err  SiPM_Voltage  Temperature  \n",
       "0         0.004296         40.00        25.00  \n",
       "1         0.004267         40.25        25.04  \n",
       "2         0.004202         40.50        25.05  \n",
       "3         0.003819         40.75        25.05  \n",
       "4         0.003961         41.00        25.06  \n",
       "5         0.003869         41.25        25.06  \n",
       "6         0.003931         41.50        25.07  \n",
       "7         0.003784         41.75        25.07  \n",
       "8         0.003922         42.00        25.08  \n",
       "9         0.003809         42.25        25.08  \n",
       "10        0.003965         42.50        25.09  \n",
       "\n",
       "[11 rows x 32 columns]"
      ]
     },
     "execution_count": 7,
     "metadata": {},
     "output_type": "execute_result"
    }
   ],
   "source": [
    "data = pd.read_csv('data.csv')\n",
    "data"
   ]
  },
  {
   "cell_type": "code",
   "execution_count": 10,
   "id": "lonely-ecuador",
   "metadata": {},
   "outputs": [
    {
     "data": {
      "text/html": [
       "<div>\n",
       "<style scoped>\n",
       "    .dataframe tbody tr th:only-of-type {\n",
       "        vertical-align: middle;\n",
       "    }\n",
       "\n",
       "    .dataframe tbody tr th {\n",
       "        vertical-align: top;\n",
       "    }\n",
       "\n",
       "    .dataframe thead th {\n",
       "        text-align: right;\n",
       "    }\n",
       "</style>\n",
       "<table border=\"1\" class=\"dataframe\">\n",
       "  <thead>\n",
       "    <tr style=\"text-align: right;\">\n",
       "      <th></th>\n",
       "      <th>SiPM_Voltage</th>\n",
       "      <th>SPS_Gain</th>\n",
       "      <th>SPS_Gain_err</th>\n",
       "    </tr>\n",
       "  </thead>\n",
       "  <tbody>\n",
       "    <tr>\n",
       "      <th>0</th>\n",
       "      <td>40.00</td>\n",
       "      <td>12.3776</td>\n",
       "      <td>0.045908</td>\n",
       "    </tr>\n",
       "    <tr>\n",
       "      <th>1</th>\n",
       "      <td>40.25</td>\n",
       "      <td>13.8333</td>\n",
       "      <td>0.035962</td>\n",
       "    </tr>\n",
       "    <tr>\n",
       "      <th>2</th>\n",
       "      <td>40.50</td>\n",
       "      <td>15.1026</td>\n",
       "      <td>0.033728</td>\n",
       "    </tr>\n",
       "    <tr>\n",
       "      <th>3</th>\n",
       "      <td>40.75</td>\n",
       "      <td>16.4827</td>\n",
       "      <td>0.031085</td>\n",
       "    </tr>\n",
       "    <tr>\n",
       "      <th>4</th>\n",
       "      <td>41.00</td>\n",
       "      <td>17.7856</td>\n",
       "      <td>0.032268</td>\n",
       "    </tr>\n",
       "    <tr>\n",
       "      <th>5</th>\n",
       "      <td>41.25</td>\n",
       "      <td>19.1577</td>\n",
       "      <td>0.033210</td>\n",
       "    </tr>\n",
       "    <tr>\n",
       "      <th>6</th>\n",
       "      <td>41.50</td>\n",
       "      <td>20.5315</td>\n",
       "      <td>0.031493</td>\n",
       "    </tr>\n",
       "    <tr>\n",
       "      <th>7</th>\n",
       "      <td>41.75</td>\n",
       "      <td>21.8471</td>\n",
       "      <td>0.030626</td>\n",
       "    </tr>\n",
       "    <tr>\n",
       "      <th>8</th>\n",
       "      <td>42.00</td>\n",
       "      <td>23.0801</td>\n",
       "      <td>0.030511</td>\n",
       "    </tr>\n",
       "    <tr>\n",
       "      <th>9</th>\n",
       "      <td>42.25</td>\n",
       "      <td>24.4558</td>\n",
       "      <td>0.032618</td>\n",
       "    </tr>\n",
       "    <tr>\n",
       "      <th>10</th>\n",
       "      <td>42.50</td>\n",
       "      <td>25.8246</td>\n",
       "      <td>0.032207</td>\n",
       "    </tr>\n",
       "  </tbody>\n",
       "</table>\n",
       "</div>"
      ],
      "text/plain": [
       "    SiPM_Voltage  SPS_Gain  SPS_Gain_err\n",
       "0          40.00   12.3776      0.045908\n",
       "1          40.25   13.8333      0.035962\n",
       "2          40.50   15.1026      0.033728\n",
       "3          40.75   16.4827      0.031085\n",
       "4          41.00   17.7856      0.032268\n",
       "5          41.25   19.1577      0.033210\n",
       "6          41.50   20.5315      0.031493\n",
       "7          41.75   21.8471      0.030626\n",
       "8          42.00   23.0801      0.030511\n",
       "9          42.25   24.4558      0.032618\n",
       "10         42.50   25.8246      0.032207"
      ]
     },
     "execution_count": 10,
     "metadata": {},
     "output_type": "execute_result"
    }
   ],
   "source": [
    "# Только те колонки, которые нужны\n",
    "data[['SiPM_Voltage', 'SPS_Gain', 'SPS_Gain_err']]"
   ]
  },
  {
   "cell_type": "markdown",
   "id": "suspended-combat",
   "metadata": {},
   "source": [
    "### Находим параметры для функции y = k(x - x0) "
   ]
  },
  {
   "cell_type": "code",
   "execution_count": 14,
   "id": "related-enough",
   "metadata": {},
   "outputs": [],
   "source": [
    "# Берём функцию x = k * (x - x0) и фитируем ею\n",
    "# popt - оптимальные парметры k, x0\n",
    "# pcov - матрица ковариаций эттих параметров\n",
    "# ошибки параметров - корни из диагональных элементов этой матриц\n",
    "# k_err = sqrt(pcov[0][0])\n",
    "# x0_err = sqrt(pcov[1][1])\n",
    "\n",
    "popt, pcov = curve_fit(pol1_fit,\n",
    "                       data['SiPM_Voltage'],\n",
    "                       data['SPS_Gain'],\n",
    "                       sigma=data['SPS_Gain_err'],\n",
    "                       absolute_sigma=True)"
   ]
  },
  {
   "cell_type": "markdown",
   "id": "falling-corner",
   "metadata": {},
   "source": [
    "### Ошибки парметров - диагональные элементы последеней матрицы"
   ]
  },
  {
   "cell_type": "code",
   "execution_count": 22,
   "id": "excited-midnight",
   "metadata": {},
   "outputs": [
    {
     "data": {
      "text/plain": [
       "array([ 5.343206  , 37.66831508])"
      ]
     },
     "metadata": {},
     "output_type": "display_data"
    },
    {
     "data": {
      "text/plain": [
       "array([[1.78001517e-04, 1.22466756e-04],\n",
       "       [1.22466756e-04, 8.77326606e-05]])"
      ]
     },
     "metadata": {},
     "output_type": "display_data"
    },
    {
     "data": {
      "text/plain": [
       "array([[0.01334172, 0.01106647],\n",
       "       [0.01106647, 0.00936657]])"
      ]
     },
     "metadata": {},
     "output_type": "display_data"
    }
   ],
   "source": [
    "# Parameters\n",
    "display(popt)\n",
    "# Variance-Covariance matrix\n",
    "display(pcov)\n",
    "# Root square from Variance-Covariance matrix\n",
    "display(np.sqrt(pcov))"
   ]
  },
  {
   "cell_type": "code",
   "execution_count": 18,
   "id": "first-effectiveness",
   "metadata": {},
   "outputs": [],
   "source": [
    "# Параметры с ошибками\n",
    "k = popt[0]\n",
    "k_err = np.sqrt(pcov[0][0])\n",
    "x0 = popt[1]\n",
    "x0_err = np.sqrt(pcov[1][1])"
   ]
  },
  {
   "cell_type": "code",
   "execution_count": 23,
   "id": "temporal-purchase",
   "metadata": {},
   "outputs": [
    {
     "name": "stdout",
     "output_type": "stream",
     "text": [
      "x = k * (x - x0)\n",
      "\n",
      "k = 5.343205999353933 +/- 0.013341720905698967\n",
      "BD voltage:\n",
      "BD = x0 = 37.668315079146716 +/- 0.009366571440785268\n"
     ]
    }
   ],
   "source": [
    "print('x = k * (x - x0)')\n",
    "print()\n",
    "print(f'k = {k} +/- {k_err}')\n",
    "print('BD voltage:')\n",
    "print(f'BD = x0 = {x0} +/- {x0_err}')"
   ]
  },
  {
   "cell_type": "code",
   "execution_count": 25,
   "id": "accepting-reunion",
   "metadata": {},
   "outputs": [
    {
     "data": {
      "text/plain": [
       "<matplotlib.lines.Line2D at 0x7fc677e39050>"
      ]
     },
     "execution_count": 25,
     "metadata": {},
     "output_type": "execute_result"
    },
    {
     "data": {
      "image/png": "[encoded data removed]",
      "text/plain": [
       "<Figure size 720x720 with 1 Axes>"
      ]
     },
     "metadata": {
      "needs_background": "light"
     },
     "output_type": "display_data"
    }
   ],
   "source": [
    "# График\n",
    "\n",
    "fig, ax = plt.subplots(1, figsize=[10,10])\n",
    "\n",
    "plt.errorbar(x=data['SiPM_Voltage'],\n",
    "             y=data['SPS_Gain'],\n",
    "             yerr=data['SPS_Gain_err'], fmt='ok',\n",
    "             elinewidth=2.5,\n",
    "             markersize=7);\n",
    "\n",
    "xfine = np.linspace(37.5, 42.5)  # define values to plot the function for\n",
    "\n",
    "plt.tick_params(axis='both', which='major', labelsize=25)\n",
    "plt.xlabel('SiPM Voltage [V]', loc='right', fontsize=27, labelpad=20)\n",
    "plt.ylabel('SPS Gain', fontsize=27, labelpad=20)\n",
    "\n",
    "plt.plot(xfine, pol1_fit(xfine, popt[0], popt[1]), 'r-', linewidth=3)\n",
    "plt.axhline(y=0., color='black', linestyle='-', linewidth=3)\n",
    "\n",
    "#plt.savefig('Gain_BD_Errobar.jpg')"
   ]
  },
  {
   "cell_type": "code",
   "execution_count": null,
   "id": "sudden-tuition",
   "metadata": {},
   "outputs": [],
   "source": []
  },
  {
   "cell_type": "markdown",
   "id": "rocky-edgar",
   "metadata": {},
   "source": [
    "### Находим параметры для функции y = kx + b "
   ]
  },
  {
   "cell_type": "code",
   "execution_count": 38,
   "id": "secure-personal",
   "metadata": {},
   "outputs": [],
   "source": [
    "popt_new, pcov_new = curve_fit(pol1_fit_default,\n",
    "                               data['SiPM_Voltage'],\n",
    "                               data['SPS_Gain'],\n",
    "                               sigma=data['SPS_Gain_err'],\n",
    "                               absolute_sigma=True)"
   ]
  },
  {
   "cell_type": "markdown",
   "id": "polyphonic-danger",
   "metadata": {},
   "source": [
    "### Теперь BD voltage (x0) нужно искать по-другому"
   ]
  },
  {
   "cell_type": "code",
   "execution_count": 39,
   "id": "extra-jacob",
   "metadata": {},
   "outputs": [
    {
     "data": {
      "text/plain": [
       "array([   5.34320599, -201.26956688])"
      ]
     },
     "metadata": {},
     "output_type": "display_data"
    },
    {
     "data": {
      "text/plain": [
       "array([[ 1.78001529e-04, -7.35938283e-03],\n",
       "       [-7.35938283e-03,  3.04369139e-01]])"
      ]
     },
     "metadata": {},
     "output_type": "display_data"
    }
   ],
   "source": [
    "# Parameters\n",
    "display(popt_new)\n",
    "# Variance-Covariance matrix\n",
    "display(pcov_new)"
   ]
  },
  {
   "cell_type": "markdown",
   "id": "lightweight-chart",
   "metadata": {},
   "source": [
    "### y0 = 0, x0 = -b / k"
   ]
  },
  {
   "cell_type": "code",
   "execution_count": 40,
   "id": "looking-lingerie",
   "metadata": {},
   "outputs": [
    {
     "name": "stdout",
     "output_type": "stream",
     "text": [
      "x0 error = 0.009366571888506736\n"
     ]
    }
   ],
   "source": [
    "# Параметры с ошибками\n",
    "k = popt_new[0]\n",
    "k_err = np.sqrt(pcov_new[0][0])\n",
    "b = popt_new[1]\n",
    "b_err = np.sqrt(pcov_new[1][1])\n",
    "# x0 = -b / k\n",
    "x0 = -popt_new[1] / popt_new[0]"
   ]
  },
  {
   "cell_type": "markdown",
   "id": "reverse-techno",
   "metadata": {},
   "source": [
    "### В общем виде эта формула страшная, но для функции двух переменных вот так"
   ]
  },
  {
   "cell_type": "markdown",
   "id": "dominican-packing",
   "metadata": {},
   "source": [
    "![FORMULA](Error_prop.png)"
   ]
  },
  {
   "cell_type": "code",
   "execution_count": 41,
   "id": "settled-grant",
   "metadata": {},
   "outputs": [
    {
     "name": "stdout",
     "output_type": "stream",
     "text": [
      "x0 error = 0.009366571888506736\n"
     ]
    }
   ],
   "source": [
    "# из формулы косвенных ошибок\n",
    "x0_err = np.sqrt((pcov_new[1][1]/popt_new[0]**2) + ((popt_new[1]/popt_new[0]**2)**2)*pcov_new[0][0] - 2*(popt_new[1]/popt_new[0]**3)*pcov_new[0][1])\n",
    "print(f'x0 error = {x0_err}')"
   ]
  },
  {
   "cell_type": "code",
   "execution_count": 45,
   "id": "revised-dancing",
   "metadata": {},
   "outputs": [
    {
     "name": "stdout",
     "output_type": "stream",
     "text": [
      "x0_err = 0.00936657188850692\n"
     ]
    }
   ],
   "source": [
    "# можно переписать в терминах формулы выше\n",
    "# f = -b / k\n",
    "sigma_k = k_err\n",
    "sigma_b = b_err\n",
    "sigma_kb = pcov_new[0][1]\n",
    "df_dk = b / k**2\n",
    "df_db = -1 / k\n",
    "\n",
    "x0_err = np.sqrt( df_dk**2 * sigma_k**2 + df_db**2 * sigma_b**2 + 2 * df_dk * df_db * sigma_kb )\n",
    "print(f'x0_err = {x0_err}')"
   ]
  },
  {
   "cell_type": "code",
   "execution_count": 43,
   "id": "refined-capitol",
   "metadata": {},
   "outputs": [
    {
     "name": "stdout",
     "output_type": "stream",
     "text": [
      "BD voltage:\n",
      "BD = x0 = 37.66831507516261 +/- 0.00936657188850692\n"
     ]
    }
   ],
   "source": [
    "# Получатся в итоге то же самое\n",
    "print('BD voltage:')\n",
    "print(f'BD = x0 = {x0} +/- {x0_err}')"
   ]
  },
  {
   "cell_type": "code",
   "execution_count": 46,
   "id": "authentic-amateur",
   "metadata": {},
   "outputs": [
    {
     "data": {
      "text/plain": [
       "<matplotlib.lines.Line2D at 0x7fc6772c3110>"
      ]
     },
     "execution_count": 46,
     "metadata": {},
     "output_type": "execute_result"
    },
    {
     "data": {
      "image/png": "[encoded data removed]",
      "text/plain": [
       "<Figure size 720x720 with 1 Axes>"
      ]
     },
     "metadata": {
      "needs_background": "light"
     },
     "output_type": "display_data"
    }
   ],
   "source": [
    "# И график такой же\n",
    "\n",
    "fig, ax = plt.subplots(1, figsize=[10,10])\n",
    "\n",
    "plt.errorbar(x=data['SiPM_Voltage'],\n",
    "             y=data['SPS_Gain'],\n",
    "             yerr=data['SPS_Gain_err'], fmt='ok',\n",
    "             elinewidth=2.5,\n",
    "             markersize=7);\n",
    "\n",
    "xfine = np.linspace(37.5, 42.5)  # define values to plot the function for\n",
    "\n",
    "plt.tick_params(axis='both', which='major', labelsize=25)\n",
    "plt.xlabel('SiPM Voltage [V]', loc='right', fontsize=27, labelpad=20)\n",
    "plt.ylabel('SPS Gain', fontsize=27, labelpad=20)\n",
    "\n",
    "plt.plot(xfine, pol1_fit_default(xfine, popt_new[0], popt_new[1]), 'r-', linewidth=3)\n",
    "plt.axhline(y=0., color='black', linestyle='-', linewidth=3)\n",
    "\n",
    "#plt.savefig('Gain_BD_Errobar.jpg')"
   ]
  },
  {
   "cell_type": "code",
   "execution_count": null,
   "id": "perceived-intensity",
   "metadata": {},
   "outputs": [],
   "source": []
  }
 ],
 "metadata": {
  "kernelspec": {
   "display_name": "Python 3 (ipykernel)",
   "language": "python",
   "name": "python3"
  },
  "language_info": {
   "codemirror_mode": {
    "name": "ipython",
    "version": 3
   },
   "file_extension": ".py",
   "mimetype": "text/x-python",
   "name": "python",
   "nbconvert_exporter": "python",
   "pygments_lexer": "ipython3",
   "version": "3.7.7"
  }
 },
 "nbformat": 4,
 "nbformat_minor": 5
}
